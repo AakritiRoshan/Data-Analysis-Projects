{
 "cells": [
  {
   "cell_type": "code",
   "execution_count": 97,
   "id": "3e6751e4",
   "metadata": {},
   "outputs": [],
   "source": [
    "#import libraries\n",
    "from bs4 import BeautifulSoup\n",
    "import requests\n",
    "import smtplib   #used for sending automated mails \n",
    "import time\n",
    "import datetime"
   ]
  },
  {
   "cell_type": "code",
   "execution_count": 98,
   "id": "7f8f0eeb",
   "metadata": {},
   "outputs": [],
   "source": [
    "#Connect to website\n",
    "URL ='https://www.amazon.com/Funny-Data-Systems-Business-Analyst/dp/B07FNW9FGJ/ref=sr_1_3?dchild=1&keywords=data%2Banalyst%2Btshirt&qid=1626655184&sr=8-3&customId=B0752XJYNL&th=1'\n",
    "\n",
    "headers={\"User-Agent\":\"Mozilla/5.0 (Windows NT 10.0; Win64; x64; rv:104.0) Gecko/20100101 Firefox/104.0\"}\n",
    "\n",
    "page=requests.get(URL,headers=headers)\n",
    "\n",
    "soup1= BeautifulSoup(page.content, \"html.parser\" )\n",
    "\n",
    "soup2= BeautifulSoup(soup1.prettify(), \"html.parser\")\n",
    "\n",
    "\n",
    "try:\n",
    "    title = soup2.find(id='productTitle').get_text()\n",
    "except AttributeError:\n",
    "    print(title)\n",
    "\n",
    "\n",
    "try:\n",
    "    ratings= soup2.find(id='acrCustomerReviewText').get_text()\n",
    "except AttributeError:\n",
    "    print(ratings)\n",
    "\n"
   ]
  },
  {
   "cell_type": "code",
   "execution_count": 99,
   "id": "9d522469",
   "metadata": {},
   "outputs": [
    {
     "name": "stdout",
     "output_type": "stream",
     "text": [
      "Funny Got Data MIS Data Systems Business Analyst T-Shirt\n",
      "15\n"
     ]
    }
   ],
   "source": [
    "ratings =ratings.strip()[:2]\n",
    "title = title.strip()\n",
    "\n",
    "print(title)\n",
    "print(ratings)"
   ]
  },
  {
   "cell_type": "code",
   "execution_count": 100,
   "id": "8c3bde37",
   "metadata": {},
   "outputs": [
    {
     "name": "stdout",
     "output_type": "stream",
     "text": [
      "2022-08-27\n"
     ]
    }
   ],
   "source": [
    "import datetime as dt\n",
    "\n",
    "today=dt.date.today()\n",
    "print(today)"
   ]
  },
  {
   "cell_type": "code",
   "execution_count": 101,
   "id": "b962d09b",
   "metadata": {},
   "outputs": [],
   "source": [
    "import csv\n",
    "\n",
    "header=['Title','Rating','Date']\n",
    "data=[title, ratings, today]\n",
    "\n",
    "\n"
   ]
  },
  {
   "cell_type": "code",
   "execution_count": 102,
   "id": "da175dd8",
   "metadata": {},
   "outputs": [
    {
     "name": "stdout",
     "output_type": "stream",
     "text": [
      "                                                Title  \\\n",
      "0   Funny Got Data MIS Data Systems Business Analy...   \n",
      "1   Funny Got Data MIS Data Systems Business Analy...   \n",
      "2   Funny Got Data MIS Data Systems Business Analy...   \n",
      "3   Funny Got Data MIS Data Systems Business Analy...   \n",
      "4   \\n                   Funny Got Data MIS Data S...   \n",
      "5   \\n                   Funny Got Data MIS Data S...   \n",
      "6   \\n                   Funny Got Data MIS Data S...   \n",
      "7   \\n                   Funny Got Data MIS Data S...   \n",
      "8   Funny Got Data MIS Data Systems Business Analy...   \n",
      "9   \\n                   Funny Got Data MIS Data S...   \n",
      "10  \\n                   Funny Got Data MIS Data S...   \n",
      "11  \\n                   Funny Got Data MIS Data S...   \n",
      "12  \\n                   Funny Got Data MIS Data S...   \n",
      "13  Funny Got Data MIS Data Systems Business Analy...   \n",
      "\n",
      "                                               Rating        Date  \n",
      "0                                                  15  2022-08-27  \n",
      "1                                                  15  2022-08-27  \n",
      "2                                                  15  2022-08-27  \n",
      "3                                                  15  2022-08-27  \n",
      "4   \\n                    15 ratings\\n            ...  2022-08-27  \n",
      "5   \\n                    15 ratings\\n            ...  2022-08-27  \n",
      "6   \\n                    15 ratings\\n            ...  2022-08-27  \n",
      "7   \\n                    15 ratings\\n            ...  2022-08-27  \n",
      "8                                                  15  2022-08-27  \n",
      "9   \\n                    15 ratings\\n            ...  2022-08-27  \n",
      "10  \\n                    15 ratings\\n            ...  2022-08-27  \n",
      "11  \\n                    15 ratings\\n            ...  2022-08-27  \n",
      "12  \\n                    15 ratings\\n            ...  2022-08-27  \n",
      "13                                                 15  2022-08-27  \n"
     ]
    }
   ],
   "source": [
    "import pandas as pd\n",
    "\n",
    "df=pd.read_csv(r'C:\\Users\\aakri\\AmazonWebScraperDataset.csv')\n",
    "print(df)\n"
   ]
  },
  {
   "cell_type": "code",
   "execution_count": 103,
   "id": "980c2542",
   "metadata": {},
   "outputs": [],
   "source": [
    "#appending data to this csv and also automating the process\n",
    "\n",
    "with open('AmazonWebScraperDataset.csv','a+', newline='',encoding='UTF8')as f:\n",
    "    writer=csv.writer(f)\n",
    "    writer.writerow(data)\n",
    "    "
   ]
  },
  {
   "cell_type": "code",
   "execution_count": null,
   "id": "46f55865",
   "metadata": {},
   "outputs": [],
   "source": [
    "# If i want to try sending myself an email when a price hits below a certain level\n",
    "'''\n",
    "\n",
    "def send_mail():\n",
    "    server = smtplib.SMTP_SSL('smtp.gmail.com',465)\n",
    "    server.ehlo()\n",
    "    #server.starttls()\n",
    "    server.ehlo()\n",
    "    server.login('aakritiroshan@gmail.com','xxxxxxxxxxxxxx')\n",
    "    \n",
    "    subject = \"The Shirt you want is below $15! Now is your chance to buy!\"\n",
    "    body = \"Aakriti, This is the moment we have been waiting for. Now is your chance to pick up the shirt of your dreams. Don't mess it up! Link here: https://www.amazon.com/Funny-Data-Systems-Business-Analyst/dp/B07FNW9FGJ/ref=sr_1_3?dchild=1&keywords=data+analyst+tshirt&qid=1626655184&sr=8-3\"\n",
    "   \n",
    "    msg = f\"Subject: {subject}\\n\\n{body}\"\n",
    "    \n",
    "    server.sendmail(\n",
    "        'aakritiroshan@gmail.com',\n",
    "        msg\n",
    "     \n",
    "    )\n",
    "'''"
   ]
  },
  {
   "cell_type": "code",
   "execution_count": 104,
   "id": "057fa99e",
   "metadata": {},
   "outputs": [],
   "source": [
    "def check_rating():\n",
    "    \n",
    "    URL ='https://www.amazon.com/Funny-Data-Systems-Business-Analyst/dp/B07FNW9FGJ/ref=sr_1_3?dchild=1&keywords=data%2Banalyst%2Btshirt&qid=1626655184&sr=8-3&customId=B0752XJYNL&th=1'\n",
    "\n",
    "    headers={\"User-Agent\":\"Mozilla/5.0 (Windows NT 10.0; Win64; x64; rv:104.0) Gecko/20100101 Firefox/104.0\"}\n",
    "\n",
    "    page=requests.get(URL,headers=headers)\n",
    "\n",
    "    soup1= BeautifulSoup(page.content, \"html.parser\" )\n",
    "\n",
    "    soup2= BeautifulSoup(soup1.prettify(), \"html.parser\")\n",
    "    \n",
    "    \n",
    "    #title = soup2.find(id='productTitle').get_text()\n",
    "    #print(title)\n",
    "\n",
    "    ratings= soup2.find(id='acrCustomerReviewText').get_text()\n",
    "    print(ratings)\n",
    "        \n",
    "    \n",
    "    import datetime as dt\n",
    "    today=dt.date.today()\n",
    "    \n",
    "    import csv\n",
    "\n",
    "    header=['Title','Rating','Date']\n",
    "    data=[title, ratings, today]\n",
    "    \n",
    "    with open('AmazonWebScraperDataset.csv','a+', newline='',encoding='UTF8')as f:\n",
    "        writer=csv.writer(f)\n",
    "        writer.writerow(data)\n",
    "        \n",
    "    #for knowing stuff like price drop \n",
    "    #if(price<200):\n",
    "    #  send mail()\n",
    "\n",
    "    \n",
    "    "
   ]
  },
  {
   "cell_type": "code",
   "execution_count": 105,
   "id": "4edf7637",
   "metadata": {},
   "outputs": [
    {
     "ename": "AttributeError",
     "evalue": "'NoneType' object has no attribute 'get_text'",
     "output_type": "error",
     "traceback": [
      "\u001b[1;31m---------------------------------------------------------------------------\u001b[0m",
      "\u001b[1;31mAttributeError\u001b[0m                            Traceback (most recent call last)",
      "Input \u001b[1;32mIn [105]\u001b[0m, in \u001b[0;36m<cell line: 2>\u001b[1;34m()\u001b[0m\n\u001b[0;32m      1\u001b[0m \u001b[38;5;28;01mwhile\u001b[39;00m(\u001b[38;5;28;01mTrue\u001b[39;00m):\n\u001b[1;32m----> 2\u001b[0m     \u001b[43mcheck_rating\u001b[49m\u001b[43m(\u001b[49m\u001b[43m)\u001b[49m\n\u001b[0;32m      3\u001b[0m     time\u001b[38;5;241m.\u001b[39msleep(\u001b[38;5;241m86400\u001b[39m)\n",
      "Input \u001b[1;32mIn [104]\u001b[0m, in \u001b[0;36mcheck_rating\u001b[1;34m()\u001b[0m\n\u001b[0;32m     11\u001b[0m soup2\u001b[38;5;241m=\u001b[39m BeautifulSoup(soup1\u001b[38;5;241m.\u001b[39mprettify(), \u001b[38;5;124m\"\u001b[39m\u001b[38;5;124mhtml.parser\u001b[39m\u001b[38;5;124m\"\u001b[39m)\n\u001b[0;32m     14\u001b[0m \u001b[38;5;66;03m#title = soup2.find(id='productTitle').get_text()\u001b[39;00m\n\u001b[0;32m     15\u001b[0m \u001b[38;5;66;03m#print(title)\u001b[39;00m\n\u001b[1;32m---> 17\u001b[0m ratings\u001b[38;5;241m=\u001b[39m \u001b[43msoup2\u001b[49m\u001b[38;5;241;43m.\u001b[39;49m\u001b[43mfind\u001b[49m\u001b[43m(\u001b[49m\u001b[38;5;28;43mid\u001b[39;49m\u001b[38;5;241;43m=\u001b[39;49m\u001b[38;5;124;43m'\u001b[39;49m\u001b[38;5;124;43macrCustomerReviewText\u001b[39;49m\u001b[38;5;124;43m'\u001b[39;49m\u001b[43m)\u001b[49m\u001b[38;5;241;43m.\u001b[39;49m\u001b[43mget_text\u001b[49m()\n\u001b[0;32m     18\u001b[0m \u001b[38;5;28mprint\u001b[39m(ratings)\n\u001b[0;32m     21\u001b[0m \u001b[38;5;28;01mimport\u001b[39;00m \u001b[38;5;21;01mdatetime\u001b[39;00m \u001b[38;5;28;01mas\u001b[39;00m \u001b[38;5;21;01mdt\u001b[39;00m\n",
      "\u001b[1;31mAttributeError\u001b[0m: 'NoneType' object has no attribute 'get_text'"
     ]
    }
   ],
   "source": [
    "while(True):\n",
    "    check_rating()\n",
    "    time.sleep(86400)"
   ]
  },
  {
   "cell_type": "code",
   "execution_count": 106,
   "id": "dd59e4f5",
   "metadata": {},
   "outputs": [
    {
     "name": "stdout",
     "output_type": "stream",
     "text": [
      "                                                Title  \\\n",
      "0   Funny Got Data MIS Data Systems Business Analy...   \n",
      "1   Funny Got Data MIS Data Systems Business Analy...   \n",
      "2   Funny Got Data MIS Data Systems Business Analy...   \n",
      "3   Funny Got Data MIS Data Systems Business Analy...   \n",
      "4   \\n                   Funny Got Data MIS Data S...   \n",
      "5   \\n                   Funny Got Data MIS Data S...   \n",
      "6   \\n                   Funny Got Data MIS Data S...   \n",
      "7   \\n                   Funny Got Data MIS Data S...   \n",
      "8   Funny Got Data MIS Data Systems Business Analy...   \n",
      "9   \\n                   Funny Got Data MIS Data S...   \n",
      "10  \\n                   Funny Got Data MIS Data S...   \n",
      "11  \\n                   Funny Got Data MIS Data S...   \n",
      "12  \\n                   Funny Got Data MIS Data S...   \n",
      "13  Funny Got Data MIS Data Systems Business Analy...   \n",
      "14  Funny Got Data MIS Data Systems Business Analy...   \n",
      "\n",
      "                                               Rating        Date  \n",
      "0                                                  15  2022-08-27  \n",
      "1                                                  15  2022-08-27  \n",
      "2                                                  15  2022-08-27  \n",
      "3                                                  15  2022-08-27  \n",
      "4   \\n                    15 ratings\\n            ...  2022-08-27  \n",
      "5   \\n                    15 ratings\\n            ...  2022-08-27  \n",
      "6   \\n                    15 ratings\\n            ...  2022-08-27  \n",
      "7   \\n                    15 ratings\\n            ...  2022-08-27  \n",
      "8                                                  15  2022-08-27  \n",
      "9   \\n                    15 ratings\\n            ...  2022-08-27  \n",
      "10  \\n                    15 ratings\\n            ...  2022-08-27  \n",
      "11  \\n                    15 ratings\\n            ...  2022-08-27  \n",
      "12  \\n                    15 ratings\\n            ...  2022-08-27  \n",
      "13                                                 15  2022-08-27  \n",
      "14                                                 15  2022-08-27  \n"
     ]
    }
   ],
   "source": [
    "import pandas as pd\n",
    "\n",
    "df=pd.read_csv(r'C:\\Users\\aakri\\AmazonWebScraperDataset.csv')\n",
    "print(df)"
   ]
  },
  {
   "cell_type": "code",
   "execution_count": null,
   "id": "5e5bd593",
   "metadata": {},
   "outputs": [],
   "source": []
  },
  {
   "cell_type": "code",
   "execution_count": null,
   "id": "62b1c96c",
   "metadata": {},
   "outputs": [],
   "source": []
  }
 ],
 "metadata": {
  "kernelspec": {
   "display_name": "Python 3 (ipykernel)",
   "language": "python",
   "name": "python3"
  },
  "language_info": {
   "codemirror_mode": {
    "name": "ipython",
    "version": 3
   },
   "file_extension": ".py",
   "mimetype": "text/x-python",
   "name": "python",
   "nbconvert_exporter": "python",
   "pygments_lexer": "ipython3",
   "version": "3.9.12"
  }
 },
 "nbformat": 4,
 "nbformat_minor": 5
}
